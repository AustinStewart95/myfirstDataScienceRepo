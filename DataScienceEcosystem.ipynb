{
 "cells": [
  {
   "cell_type": "markdown",
   "id": "fa1b44c8-93c2-4ab3-a57d-4fd964ee9bcc",
   "metadata": {},
   "source": [
    "# Data Science Tools and Ecosystem"
   ]
  },
  {
   "cell_type": "markdown",
   "id": "50d6602e-c014-4056-b1a5-5601a2597aa6",
   "metadata": {},
   "source": [
    "#### In this notebook, Data Science Tools and Ecosystem are summarized."
   ]
  },
  {
   "cell_type": "markdown",
   "id": "2029db34-5760-4fbe-adf2-4c270a3eb1ea",
   "metadata": {},
   "source": [
    "##### **Objectives:**\n",
    "- List popular languages for Data Science\n",
    "- List commonly used libraries in Data Science\n",
    "- List open source tools commonly used in Data Science\n",
    "- Show simple arithmetic expression\n",
    "- Show conversion expression"
   ]
  },
  {
   "cell_type": "markdown",
   "id": "80abf139-3fd9-4dec-b2bc-ac7e80cef27d",
   "metadata": {},
   "source": [
    "#### Some of the popular languages that Data Scientists use are:\n",
    "1. Python\n",
    "2. C++\n",
    "3. R\n",
    "4. SQL\n",
    "5. Java"
   ]
  },
  {
   "cell_type": "markdown",
   "id": "13926b6e-9eeb-48e4-ac4a-c02a7767af3e",
   "metadata": {},
   "source": [
    "#### Some of the commonly used libraries used by Data Scientists include:\n",
    "1. Numoy\n",
    "2. Scikit-Learn\n",
    "3. Pandas\n",
    "4. Matplotlib"
   ]
  },
  {
   "cell_type": "markdown",
   "id": "c85a4d0e-76bd-478d-a169-8779b9dc35cb",
   "metadata": {},
   "source": [
    "| Data Science Tools |\n",
    "| --- |\n",
    "| Jupyter Notebook |\n",
    "| R Studio |\n",
    "| Pytorch |"
   ]
  },
  {
   "cell_type": "markdown",
   "id": "a802238b-329f-4187-a6ad-88085c137b3c",
   "metadata": {},
   "source": [
    "### Below are a few examples of evaluating arithmetic expressions in Python"
   ]
  },
  {
   "cell_type": "code",
   "execution_count": 16,
   "id": "bcd4b0c8-82e8-4fc9-be45-8b3aff0f3475",
   "metadata": {},
   "outputs": [
    {
     "data": {
      "text/plain": [
       "17"
      ]
     },
     "execution_count": 16,
     "metadata": {},
     "output_type": "execute_result"
    }
   ],
   "source": [
    "# This a simple arithmetic expression to mutiply then add integers\n",
    "(3*4)+5"
   ]
  },
  {
   "cell_type": "code",
   "execution_count": 18,
   "id": "b0f255fa-459e-4236-bf71-f38bfcb3600d",
   "metadata": {},
   "outputs": [
    {
     "data": {
      "text/plain": [
       "3.3333333333333335"
      ]
     },
     "execution_count": 18,
     "metadata": {},
     "output_type": "execute_result"
    }
   ],
   "source": [
    "# This will convert 200 minutes to hours by diving by 60\n",
    "200 / 60"
   ]
  },
  {
   "cell_type": "markdown",
   "id": "d7931afe-a673-43ff-94dc-ca55ea218df6",
   "metadata": {},
   "source": [
    "## Author\n",
    "Austin Stewart"
   ]
  },
  {
   "cell_type": "code",
   "execution_count": null,
   "id": "2f1d0039-9194-4de3-b15f-866d400ccb94",
   "metadata": {},
   "outputs": [],
   "source": []
  }
 ],
 "metadata": {
  "kernelspec": {
   "display_name": "Python 3 (ipykernel)",
   "language": "python",
   "name": "python3"
  },
  "language_info": {
   "codemirror_mode": {
    "name": "ipython",
    "version": 3
   },
   "file_extension": ".py",
   "mimetype": "text/x-python",
   "name": "python",
   "nbconvert_exporter": "python",
   "pygments_lexer": "ipython3",
   "version": "3.11.7"
  }
 },
 "nbformat": 4,
 "nbformat_minor": 5
}
